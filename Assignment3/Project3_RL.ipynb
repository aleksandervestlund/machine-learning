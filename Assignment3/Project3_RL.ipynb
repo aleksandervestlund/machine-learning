{
 "cells": [
  {
   "cell_type": "markdown",
   "metadata": {
    "id": "Bb6euaGTtpwB"
   },
   "source": [
    "# **Project 3 - Reinforcement Learning**\n"
   ]
  },
  {
   "cell_type": "markdown",
   "metadata": {
    "id": "8ECxNoBGPkGr"
   },
   "source": [
    "## 🌞 Mission: Find a secret Location in Trondheim where SkyNets servers are located\n"
   ]
  },
  {
   "cell_type": "markdown",
   "metadata": {
    "id": "daDMCdxyPkGs"
   },
   "source": [
    "📊 **High-level goal:**\n",
    "\n",
    "Train an agent (the “learner”) to interact with given environment and learn from it, so it can maximize its cumulative rewards over time.\n",
    "\n",
    "- **Environment:**\n",
    "  _ The environment **is already created** and set up for you with the help of\n",
    "  \"gym\" library.\n",
    "  _ The agent is interacting with a simulated environment, which has states, accepts actions, and returns rewards. The environment resets at the beginning of each episode, and the agent takes actions within it, receiving feedback in the form of rewards.\n",
    "- **Q-table:**\n",
    "  - This table stores information about the \"quality\" of actions in different states.\n",
    "  - The goal of the agent is to update the Q-table over time to estimate the value of taking different actions in various states.\n",
    "  - You will initialize and learn Q-table in this project.\n"
   ]
  },
  {
   "cell_type": "markdown",
   "metadata": {
    "id": "URR74x6gPkGs"
   },
   "source": [
    "## 📮 Imports:\n"
   ]
  },
  {
   "cell_type": "code",
   "execution_count": 1,
   "metadata": {
    "id": "NtDaL3aL9emb"
   },
   "outputs": [],
   "source": [
    "import os\n",
    "from typing import Any\n",
    "\n",
    "import imageio.v3 as iio\n",
    "import numpy as np\n",
    "from gym import Env\n",
    "from gym.spaces import Discrete, MultiDiscrete\n",
    "from matplotlib import pyplot as plt\n",
    "from matplotlib.animation import ArtistAnimation\n",
    "from matplotlib.image import AxesImage\n",
    "from numpy import floating\n",
    "from numpy.typing import NDArray"
   ]
  },
  {
   "cell_type": "code",
   "execution_count": 2,
   "metadata": {},
   "outputs": [],
   "source": [
    "SEED = 69_420\n",
    "rng = np.random.default_rng(SEED)"
   ]
  },
  {
   "cell_type": "code",
   "execution_count": 3,
   "metadata": {},
   "outputs": [],
   "source": [
    "def get_path(folder: str, image: str = \"\") -> str:\n",
    "    return os.path.join(folder, image)"
   ]
  },
  {
   "cell_type": "markdown",
   "metadata": {
    "id": "4UCkLhnL5hik"
   },
   "source": [
    "### Utility functions are provided for you:\n",
    "\n",
    "- one_hot_decode\n",
    "- one_hot_encode\n",
    "- make_2d\n",
    "- make_3d\n",
    "- read_png_file\n",
    "- is_valid_idx\n",
    "- flatten_observation\n",
    "- is_valid_idx\n",
    "- flatten_observation\n",
    "- make_2d_observation\n",
    "- swap_values\n"
   ]
  },
  {
   "cell_type": "code",
   "execution_count": 4,
   "metadata": {
    "id": "O6bisXF65lHl"
   },
   "outputs": [],
   "source": [
    "def one_hot_decode(label_3D: NDArray[Any]) -> NDArray[Any]:\n",
    "    \"\"\"Converts back from one-hot encoded format (label_3D) to original\n",
    "    class labels for each pixel (2D).\n",
    "    \"\"\"\n",
    "    return np.argmax(label_3D, axis=-1)\n",
    "\n",
    "\n",
    "def one_hot_encode(\n",
    "    label_2D: NDArray[Any], label_values: NDArray[Any]\n",
    ") -> NDArray[Any]:\n",
    "    \"\"\"Converts a segmentation image label array (label_2D) to one-hot\n",
    "    formatby replacing each pixel value with a vector of length\n",
    "    num_classes.\n",
    "\n",
    "    # Arguments\n",
    "        label_2D: The 2D array segmentation image label.\n",
    "        label_values: an RGB array of classes (num_classes, 3).\n",
    "\n",
    "    # Returns\n",
    "        A 3D array with the same width and height as the input, but with\n",
    "        a depth size of num_classes (for each pixel).\n",
    "\n",
    "        Each class gets its own encoding for every pixel in the image.\n",
    "        Encodings are then stacked along new axis which is number of classes.\n",
    "    \"\"\"\n",
    "    semantic_map: list[NDArray[Any]] = []\n",
    "\n",
    "    for colour in label_values:\n",
    "        equality = np.equal(label_2D, colour)\n",
    "        class_map = np.all(equality, axis=-1)\n",
    "        semantic_map.append(class_map)\n",
    "\n",
    "    return np.stack(semantic_map, axis=-1)\n",
    "\n",
    "\n",
    "def make_2d(\n",
    "    map_3d: NDArray[Any] | None = None,\n",
    "    palette_array: NDArray[Any] | None = None,\n",
    ") -> NDArray[Any]:\n",
    "    \"\"\"Converts RGB images to images with number of class as value at\n",
    "    [i,j].\n",
    "\n",
    "    map_3d: 3D RGB image (H, W, n_ch = 3)\n",
    "    palette_array: an RGB array of classes (num_classes, 3)\n",
    "\n",
    "    Result: 2D structure where each \"pixel\" in the image\n",
    "    has a class number instead of RGB color\n",
    "    \"\"\"\n",
    "    replaced_image_onehot = one_hot_encode(\n",
    "        map_3d.astype(np.uint8), palette_array\n",
    "    )\n",
    "    return one_hot_decode(replaced_image_onehot)\n",
    "\n",
    "\n",
    "def make_3d(\n",
    "    map_2d: NDArray[Any] | None = None,\n",
    "    palette_array: NDArray[Any] | None = None,\n",
    ") -> NDArray[Any]:\n",
    "    \"\"\"Convert a 2d img to 3d.\n",
    "    Convert a 2D image where each pixel represents a class label into a\n",
    "    3D image where each class label is represented by its corresponding\n",
    "    RGB color from the palette_array.\n",
    "    Creates colorized 3D image from the original 2D class map\n",
    "\n",
    "    map_2d: array of class labels, size (H, W)\n",
    "    palette_array: an RGB array of classes (num_classes, 3)\n",
    "\n",
    "    Result: RGB image (H, W, 3)\n",
    "    \"\"\"\n",
    "    return palette_array[map_2d.astype(np.uint8)]\n",
    "\n",
    "\n",
    "def read_png_file(image_path: str, printDebug: bool = True) -> NDArray[Any]:\n",
    "    \"\"\"Read a png file and returns it as a 3D numpy array.\"\"\"\n",
    "    original_image_matrix = iio.imread(image_path)\n",
    "\n",
    "    if original_image_matrix.ndim <= 2 or original_image_matrix.shape[-1] <= 3:\n",
    "        return original_image_matrix\n",
    "    if printDebug:\n",
    "        print(\n",
    "            f\"image has more than 3 channels, only first 3 channels are used \"\n",
    "            f\"there are {original_image_matrix.shape} channels\"\n",
    "        )\n",
    "\n",
    "    return original_image_matrix[:, :, :3]\n",
    "\n",
    "\n",
    "def is_valid_idx(image_2D, selected_idx: tuple[int, int]) -> bool:\n",
    "    \"\"\"Checks if a given index is within the valid range of a 2D array.\n",
    "\n",
    "    if selected_idx is valid in image_2D\n",
    "    selected_idx = [i,j]\n",
    "    image_2D = [h,w]\n",
    "    \"\"\"\n",
    "    if selected_idx[0] < 0 or selected_idx[1] < 0:\n",
    "        return False\n",
    "    if (\n",
    "        selected_idx[0] < image_2D.shape[0]\n",
    "        and selected_idx[1] < image_2D.shape[1]\n",
    "    ):\n",
    "        return True\n",
    "    return False\n",
    "\n",
    "\n",
    "def flatten_observation(observation_arr: NDArray[Any]) -> NDArray[Any]:\n",
    "    \"\"\"Converts/flattens a multi-dimensional array into a 1D array.\"\"\"\n",
    "    return observation_arr.flatten\n",
    "\n",
    "\n",
    "def make_2d_observation(\n",
    "    observation_flattened: NDArray[Any], observation_arr_shape: NDArray[Any]\n",
    ") -> NDArray[Any]:\n",
    "    \"\"\"Converts flattened array into shape observation_arr_shape.\"\"\"\n",
    "    return observation_flattened.reshape(observation_arr_shape.shape)\n",
    "\n",
    "\n",
    "def swap_values(arr: NDArray[Any], value1: int, value2: int) -> NDArray[Any]:\n",
    "    \"\"\"Swaps occurencies of two specific values (value1 and value2)\n",
    "    within a 2D NumPy array (arr).\n",
    "\n",
    "    arr: A 2D NumPy array where we want to swap the values.\n",
    "    value1: the first value that we want to swap with value2.\n",
    "    value2: the second value that we want to swap with value1.\n",
    "\n",
    "    Returns: 2D array with swapped values.\n",
    "    \"\"\"\n",
    "    value1, value2 = int(value1), int(value2)\n",
    "    pos_value1 = np.argwhere(arr == value1)\n",
    "\n",
    "    if pos_value1.size > 0:\n",
    "        arr[pos_value1[0, 0], pos_value1[0, 1]] = value2\n",
    "\n",
    "    pos_value2 = np.argwhere(arr == value2)\n",
    "\n",
    "    if len(pos_value2) <= 1:\n",
    "        return arr\n",
    "\n",
    "    pos_value2 = pos_value2[np.all(pos_value2 != pos_value1[0], axis=1)]\n",
    "\n",
    "    if pos_value2.size > 0:\n",
    "        random_pos_value2 = pos_value2[np.random.choice(len(pos_value2))]\n",
    "        arr[random_pos_value2[0], random_pos_value2[1]] = value1\n",
    "\n",
    "    return arr"
   ]
  },
  {
   "cell_type": "markdown",
   "metadata": {
    "id": "I95zkEvIPkGt"
   },
   "source": [
    "### Environment class with necessary functions - provided for you:\n",
    "\n",
    "- constructor **init**\n",
    "- step\n",
    "- reset\n",
    "- get_1d_state\n",
    "- render\n",
    "- close\n"
   ]
  },
  {
   "cell_type": "code",
   "execution_count": 5,
   "metadata": {
    "id": "s6TWGiuXth-H"
   },
   "outputs": [],
   "source": [
    "class TrondheimEnv(Env):\n",
    "    metadata = {\"render.modes\": [\"human\"]}\n",
    "\n",
    "    def __init__(self, conf: dict[str, Any]) -> None:\n",
    "        \"\"\"Every environment should be derived from gym.Env and at least\n",
    "        contain variables observation_space and action_space specifying\n",
    "        the type of possible observations and actions using spaces.Box\n",
    "        or spaces.Discrete.\n",
    "\n",
    "        Example:\n",
    "        >>> EnvTest = TrondheimEnv()\n",
    "        >>> EnvTest.observation_space=spaces.Box(low=-1, high=1, shape=(3,4))\n",
    "        >>> EnvTest.action_space=spaces.Discrete(2)\n",
    "        \"\"\"\n",
    "        self.manual_mode = True\n",
    "\n",
    "        number_action = 4\n",
    "        self.action_space = Discrete(number_action)\n",
    "\n",
    "        self.env_image_path = conf[\"env_image_path\"]\n",
    "        self.number_removable_locations = conf[\"number_removable_locations\"]\n",
    "\n",
    "        self.pallete = np.array(\n",
    "            [\n",
    "                [0, 0, 255],  # Blue:0:Water\n",
    "                [255, 255, 0],  # Yellow:1:Start\n",
    "                [0, 255, 0],  # Green:2:Land\n",
    "                [255, 0, 0],  # Red:3:BusLane\n",
    "                [128, 0, 128],  # Purple:4:BusStop\n",
    "                [0, 0, 0],  # Black:5:Secret Location\n",
    "                [128, 128, 0],  # Olive:6:Final Location\n",
    "            ],\n",
    "            dtype=np.uint8,\n",
    "        )\n",
    "\n",
    "        self.neighbours = np.array(\n",
    "            [[-1, 0], [0, -1], [1, 0], [0, 1]]\n",
    "        )  # up, left, down, right\n",
    "        self.not_allowed_area = [0]  # water\n",
    "        self.normal_land_class = 2  # land\n",
    "        self.neutral_area = [self.normal_land_class, 3]  # land and BusLane\n",
    "        self.start_class = 1  # start\n",
    "        self.busstop_class = 4  # bus stop\n",
    "        self.secret_location_class = 5  # secret location\n",
    "        self.final_location_class = 6  # final location (2)\n",
    "\n",
    "        self.dead_allowed = conf[\"dead_allowed\"]\n",
    "        self.remove_after_location_found = conf[\"remove_after_location_found\"]\n",
    "        self.start_random = conf[\"start_random\"]\n",
    "\n",
    "        img_3d = read_png_file(self.env_image_path, printDebug=False)\n",
    "        img_2d = make_2d(map_3d=img_3d, palette_array=self.pallete)\n",
    "        self.observation = img_2d\n",
    "        self.initial_observation = img_2d.copy()\n",
    "\n",
    "        max_observation_value = np.max(img_2d)\n",
    "        # assert isinstance(max_observation_value, int)\n",
    "        observation_space = np.full_like(\n",
    "            img_2d, fill_value=max_observation_value\n",
    "        )\n",
    "        self.observation_space = MultiDiscrete(observation_space)\n",
    "        self.reward = 0\n",
    "        self.done = False\n",
    "        self.terminated = False\n",
    "\n",
    "    def step(self, action: int) -> tuple[NDArray[Any], int, bool, None]:\n",
    "        \"\"\"This method is the primary interface between environment and\n",
    "        agent.\n",
    "\n",
    "        Parameters:\n",
    "            action: the index of the respective action (if action space\n",
    "                    is discrete)\n",
    "\n",
    "        Returns:\n",
    "            output: information provided by the environment about its\n",
    "                    current state: (observation, reward, done)\n",
    "\n",
    "                    self.observation: The updated state of the environment (2D)\n",
    "                    reward: Reward agent received for the action in this step (Int)\n",
    "                    terminated: indicate if the episode has ended (Bool)\n",
    "                    info: Additional information (not used currently)\n",
    "\n",
    "        \"\"\"\n",
    "        obs = self.observation\n",
    "        terminated = False\n",
    "        truncated = False  # not used\n",
    "        info = None\n",
    "\n",
    "        start_idx = np.argwhere(obs == self.start_class)[0]\n",
    "        next_idx = start_idx + self.neighbours[action]\n",
    "        reward = self.reward\n",
    "\n",
    "        if self.manual_mode:\n",
    "            print(\"Next step towards:\")\n",
    "\n",
    "        if not is_valid_idx(image_2D=obs, selected_idx=next_idx):\n",
    "            next_idx = start_idx\n",
    "\n",
    "            if self.manual_mode:\n",
    "                print(\n",
    "                    \"Hey there, you cannot escape outside of the environment\"\n",
    "                )\n",
    "\n",
    "        if obs[tuple(next_idx)] == self.normal_land_class:\n",
    "            if self.manual_mode:\n",
    "                print(\"Green Land class area\")\n",
    "\n",
    "        if obs[tuple(next_idx)] in self.not_allowed_area:\n",
    "            if self.manual_mode:\n",
    "                print(\"The move is not allowed\")\n",
    "\n",
    "            if self.dead_allowed:\n",
    "                reward = -1000\n",
    "                terminated = True\n",
    "            else:\n",
    "                next_idx = start_idx\n",
    "\n",
    "        elif obs[tuple(next_idx)] == self.busstop_class:\n",
    "            if self.manual_mode:\n",
    "                print(\"A bus stop\")\n",
    "\n",
    "            bus_stop_indices = np.argwhere(obs == self.busstop_class)\n",
    "\n",
    "            if np.array_equal(next_idx, bus_stop_indices[0]):\n",
    "                next_idx = bus_stop_indices[1]\n",
    "            else:\n",
    "                next_idx = bus_stop_indices[0]\n",
    "\n",
    "        elif obs[tuple(next_idx)] == self.secret_location_class:\n",
    "            if self.manual_mode:\n",
    "                print(\"Central Source Secret Location\")\n",
    "\n",
    "            reward = 300\n",
    "\n",
    "            if self.remove_after_location_found:\n",
    "                self.initial_observation[tuple(next_idx)] = (\n",
    "                    self.normal_land_class\n",
    "                )\n",
    "                self.number_removed_shop += 1\n",
    "                reward = 9000\n",
    "\n",
    "        elif obs[tuple(next_idx)] == self.final_location_class:\n",
    "            if self.manual_mode:\n",
    "                print(\"Final Location - well done!\")\n",
    "                print(\n",
    "                    \"You have discovered the Final Location of AI center in \"\n",
    "                    \"Trondheim\"\n",
    "                )\n",
    "\n",
    "            reward = 200\n",
    "\n",
    "        if self.initial_observation[tuple(start_idx)] == self.start_class:\n",
    "            self.observation[tuple(start_idx)] = self.normal_land_class\n",
    "        else:\n",
    "            self.observation[tuple(start_idx)] = self.initial_observation[\n",
    "                tuple(start_idx)\n",
    "            ]\n",
    "\n",
    "        self.observation[tuple(next_idx)] = self.start_class\n",
    "        return self.observation, reward, terminated, info\n",
    "\n",
    "    def reset(self) -> NDArray[Any]:\n",
    "        \"\"\"This method resets the environment to its initial values.\n",
    "\n",
    "        Returns:\n",
    "            observation: The initial state of the environment.\n",
    "        \"\"\"\n",
    "        self.number_removed_shop = 0\n",
    "\n",
    "        img_3d = read_png_file(self.env_image_path, printDebug=False)\n",
    "        img_2d = make_2d(map_3d=img_3d, palette_array=self.pallete)\n",
    "\n",
    "        if self.start_random:\n",
    "            img_2d = swap_values(arr=img_2d, value1=1, value2=2)\n",
    "\n",
    "        self.observation = img_2d\n",
    "        self.initial_observation = img_2d.copy()\n",
    "\n",
    "        max_observation_value = np.max(img_2d)\n",
    "        observation_space = np.full_like(\n",
    "            img_2d, fill_value=max_observation_value\n",
    "        )\n",
    "        self.observation_space = MultiDiscrete(observation_space)\n",
    "\n",
    "        self.reward = 0\n",
    "        self.done = False\n",
    "        self.terminated = False\n",
    "        return self.observation\n",
    "\n",
    "    def get_1d_state(self) -> int:\n",
    "        \"\"\"This function returns state as 1d observation.\"\"\"\n",
    "        max_x, max_y = self.observation.shape\n",
    "\n",
    "        start_idx = np.argwhere(self.observation == self.start_class)[0]\n",
    "        state_number = start_idx[0] * max_x + start_idx[1]\n",
    "        state_number += self.number_removed_shop * max_x * max_y\n",
    "        return state_number\n",
    "\n",
    "    def render(\n",
    "        self, mode: Any = \"human\", close: Any = False, display: bool = True\n",
    "    ) -> NDArray[Any]:\n",
    "        \"\"\"This methods provides the option to render the environment's\n",
    "        behavior to a window which should be readable to the human eye\n",
    "        if mode is set to 'human'.\n",
    "        \"\"\"\n",
    "        render_ready_arr = make_3d(\n",
    "            map_2d=self.observation, palette_array=self.pallete\n",
    "        )\n",
    "\n",
    "        if display:\n",
    "            plt.imshow(render_ready_arr)\n",
    "            plt.show()\n",
    "            plt.close()\n",
    "\n",
    "        return render_ready_arr\n",
    "\n",
    "    def close(self) -> None:\n",
    "        \"\"\"This method provides the user with the option to perform\n",
    "        necessary cleanup.\n",
    "        \"\"\"\n",
    "        img_3d = read_png_file(self.env_image_path)\n",
    "        img_2d = make_2d(map_3d=img_3d, palette_array=self.pallete)\n",
    "        self.observation = img_2d\n",
    "        self.initial_observation = img_2d.copy()"
   ]
  },
  {
   "cell_type": "code",
   "execution_count": 6,
   "metadata": {
    "id": "oYWhRI2VygG9"
   },
   "outputs": [],
   "source": [
    "input_folder = get_path(\"input_images\")\n",
    "\n",
    "if not os.path.exists(input_folder):\n",
    "    os.makedirs(input_folder)"
   ]
  },
  {
   "cell_type": "markdown",
   "metadata": {
    "id": "LESqxWq8PkGu"
   },
   "source": [
    "# Configuring and loading the environment:\n"
   ]
  },
  {
   "cell_type": "markdown",
   "metadata": {
    "id": "aPy3pcnbPkGu"
   },
   "source": [
    "## 🔎📉 Let's first visualize our simple toy environment\n"
   ]
  },
  {
   "cell_type": "code",
   "execution_count": 7,
   "metadata": {
    "colab": {
     "base_uri": "https://localhost:8080/"
    },
    "id": "HEmdFlf2PkGu",
    "outputId": "646b818a-b60e-4699-bc8e-14088fa9fb24"
   },
   "outputs": [
    {
     "name": "stdout",
     "output_type": "stream",
     "text": [
      "Environment successfully created\n"
     ]
    }
   ],
   "source": [
    "env_config = {\n",
    "    \"env_image_path\": get_path(input_folder, \"image_simple_1.png\"),\n",
    "    \"dead_allowed\": False,\n",
    "    \"remove_after_location_found\": False,\n",
    "    \"start_random\": False,\n",
    "    \"number_removable_locations\": 0,\n",
    "}\n",
    "\n",
    "\n",
    "if not os.path.exists(env_config[\"env_image_path\"]):\n",
    "    raise FileNotFoundError(\n",
    "        f\"The image path {env_config['env_image_path']} does not exist.\"\n",
    "    )\n",
    "\n",
    "tmp_env = TrondheimEnv(conf=env_config)\n",
    "print(f\"Environment successfully created\")"
   ]
  },
  {
   "cell_type": "code",
   "execution_count": 8,
   "metadata": {
    "colab": {
     "base_uri": "https://localhost:8080/",
     "height": 466
    },
    "id": "_clXneCvPkGu",
    "outputId": "a3af85a0-8fdb-4cdc-e8b3-dc5851aaf714"
   },
   "outputs": [
    {
     "data": {
      "image/png": "[encoded data removed]",
      "text/plain": [
       "<Figure size 640x480 with 1 Axes>"
      ]
     },
     "metadata": {},
     "output_type": "display_data"
    },
    {
     "data": {
      "text/plain": [
       "array([[[  0, 255,   0],\n",
       "        [  0, 255,   0],\n",
       "        [  0, 255,   0],\n",
       "        [  0, 255,   0],\n",
       "        [  0, 255,   0],\n",
       "        [  0, 255,   0],\n",
       "        [  0, 255,   0],\n",
       "        [  0, 255,   0],\n",
       "        [  0, 255,   0],\n",
       "        [  0, 255,   0],\n",
       "        [  0, 255,   0],\n",
       "        [  0, 255,   0]],\n",
       "\n",
       "       [[  0, 255,   0],\n",
       "        [  0, 255,   0],\n",
       "        [  0, 255,   0],\n",
       "        [  0, 255,   0],\n",
       "        [  0, 255,   0],\n",
       "        [  0, 255,   0],\n",
       "        [  0, 255,   0],\n",
       "        [  0, 255,   0],\n",
       "        [  0, 255,   0],\n",
       "        [  0, 255,   0],\n",
       "        [  0, 255,   0],\n",
       "        [  0, 255,   0]],\n",
       "\n",
       "       [[  0, 255,   0],\n",
       "        [  0, 255,   0],\n",
       "        [  0, 255,   0],\n",
       "        [  0, 255,   0],\n",
       "        [  0, 255,   0],\n",
       "        [  0, 255,   0],\n",
       "        [  0, 255,   0],\n",
       "        [  0, 255,   0],\n",
       "        [  0, 255,   0],\n",
       "        [  0, 255,   0],\n",
       "        [  0, 255,   0],\n",
       "        [  0, 255,   0]],\n",
       "\n",
       "       [[  0, 255,   0],\n",
       "        [  0, 255,   0],\n",
       "        [  0, 255,   0],\n",
       "        [  0, 255,   0],\n",
       "        [  0, 255,   0],\n",
       "        [  0, 255,   0],\n",
       "        [  0, 255,   0],\n",
       "        [  0, 255,   0],\n",
       "        [  0, 255,   0],\n",
       "        [  0, 255,   0],\n",
       "        [  0, 255,   0],\n",
       "        [  0, 255,   0]],\n",
       "\n",
       "       [[  0, 255,   0],\n",
       "        [  0, 255,   0],\n",
       "        [  0, 255,   0],\n",
       "        [  0, 255,   0],\n",
       "        [  0, 255,   0],\n",
       "        [  0, 255,   0],\n",
       "        [  0, 255,   0],\n",
       "        [  0, 255,   0],\n",
       "        [  0, 255,   0],\n",
       "        [  0, 255,   0],\n",
       "        [  0, 255,   0],\n",
       "        [  0, 255,   0]],\n",
       "\n",
       "       [[  0, 255,   0],\n",
       "        [  0, 255,   0],\n",
       "        [  0, 255,   0],\n",
       "        [  0, 255,   0],\n",
       "        [  0, 255,   0],\n",
       "        [  0, 255,   0],\n",
       "        [  0,   0,   0],\n",
       "        [  0, 255,   0],\n",
       "        [  0, 255,   0],\n",
       "        [  0, 255,   0],\n",
       "        [  0, 255,   0],\n",
       "        [  0, 255,   0]],\n",
       "\n",
       "       [[  0, 255,   0],\n",
       "        [  0, 255,   0],\n",
       "        [  0, 255,   0],\n",
       "        [  0, 255,   0],\n",
       "        [  0, 255,   0],\n",
       "        [  0, 255,   0],\n",
       "        [  0, 255,   0],\n",
       "        [  0, 255,   0],\n",
       "        [  0, 255,   0],\n",
       "        [  0, 255,   0],\n",
       "        [  0, 255,   0],\n",
       "        [  0, 255,   0]],\n",
       "\n",
       "       [[  0, 255,   0],\n",
       "        [  0, 255,   0],\n",
       "        [  0, 255,   0],\n",
       "        [  0, 255,   0],\n",
       "        [  0, 255,   0],\n",
       "        [  0, 255,   0],\n",
       "        [  0, 255,   0],\n",
       "        [  0, 255,   0],\n",
       "        [  0, 255,   0],\n",
       "        [  0, 255,   0],\n",
       "        [  0, 255,   0],\n",
       "        [  0, 255,   0]],\n",
       "\n",
       "       [[  0, 255,   0],\n",
       "        [  0, 255,   0],\n",
       "        [  0, 255,   0],\n",
       "        [  0, 255,   0],\n",
       "        [  0, 255,   0],\n",
       "        [  0, 255,   0],\n",
       "        [  0, 255,   0],\n",
       "        [  0, 255,   0],\n",
       "        [  0, 255,   0],\n",
       "        [  0, 255,   0],\n",
       "        [  0, 255,   0],\n",
       "        [  0, 255,   0]],\n",
       "\n",
       "       [[  0, 255,   0],\n",
       "        [  0, 255,   0],\n",
       "        [  0, 255,   0],\n",
       "        [  0, 255,   0],\n",
       "        [  0, 255,   0],\n",
       "        [  0, 255,   0],\n",
       "        [  0, 255,   0],\n",
       "        [  0, 255,   0],\n",
       "        [  0, 255,   0],\n",
       "        [  0, 255,   0],\n",
       "        [  0, 255,   0],\n",
       "        [  0, 255,   0]],\n",
       "\n",
       "       [[  0, 255,   0],\n",
       "        [  0, 255,   0],\n",
       "        [  0, 255,   0],\n",
       "        [  0, 255,   0],\n",
       "        [  0, 255,   0],\n",
       "        [  0, 255,   0],\n",
       "        [  0, 255,   0],\n",
       "        [  0, 255,   0],\n",
       "        [  0, 255,   0],\n",
       "        [  0, 255,   0],\n",
       "        [255, 255,   0],\n",
       "        [  0, 255,   0]],\n",
       "\n",
       "       [[  0, 255,   0],\n",
       "        [  0, 255,   0],\n",
       "        [  0, 255,   0],\n",
       "        [  0, 255,   0],\n",
       "        [  0, 255,   0],\n",
       "        [  0, 255,   0],\n",
       "        [  0, 255,   0],\n",
       "        [  0, 255,   0],\n",
       "        [  0, 255,   0],\n",
       "        [  0, 255,   0],\n",
       "        [  0, 255,   0],\n",
       "        [  0, 255,   0]]], dtype=uint8)"
      ]
     },
     "execution_count": 8,
     "metadata": {},
     "output_type": "execute_result"
    }
   ],
   "source": [
    "tmp_env.reset()\n",
    "tmp_env.render()"
   ]
  },
  {
   "cell_type": "markdown",
   "metadata": {
    "id": "XVfyvoCRPkGv"
   },
   "source": [
    "Let's see how actions work:\n"
   ]
  },
  {
   "cell_type": "code",
   "execution_count": 9,
   "metadata": {
    "id": "S22Lbe8OPkGv"
   },
   "outputs": [],
   "source": [
    "action_dict = {\n",
    "    \"up\": 0,\n",
    "    \"left\": 1,\n",
    "    \"down\": 2,\n",
    "    \"right\": 3,\n",
    "}"
   ]
  },
  {
   "cell_type": "code",
   "execution_count": 10,
   "metadata": {
    "colab": {
     "base_uri": "https://localhost:8080/",
     "height": 708
    },
    "id": "1wUXsfWIPkGv",
    "outputId": "598a8004-4585-4980-feb1-cba1311961d9"
   },
   "outputs": [
    {
     "name": "stdout",
     "output_type": "stream",
     "text": [
      "Next step towards:\n",
      "Green Land class area\n",
      "Reward for action left is: 0\n"
     ]
    },
    {
     "data": {
      "image/png": "[encoded data removed]",
      "text/plain": [
       "<Figure size 640x480 with 1 Axes>"
      ]
     },
     "metadata": {},
     "output_type": "display_data"
    },
    {
     "name": "stdout",
     "output_type": "stream",
     "text": [
      "Observation space looks like this:\n",
      "[[2 2 2 2 2 2 2 2 2 2 2 2]\n",
      " [2 2 2 2 2 2 2 2 2 2 2 2]\n",
      " [2 2 2 2 2 2 2 2 2 2 2 2]\n",
      " [2 2 2 2 2 2 2 2 2 2 2 2]\n",
      " [2 2 2 2 2 2 2 2 2 2 2 2]\n",
      " [2 2 2 2 2 2 5 2 2 2 2 2]\n",
      " [2 2 2 2 2 2 2 2 2 2 2 2]\n",
      " [2 2 2 2 2 2 2 2 2 2 2 2]\n",
      " [2 2 2 2 2 2 2 2 2 2 2 2]\n",
      " [2 2 2 2 2 2 2 2 2 2 2 2]\n",
      " [2 2 2 2 2 2 2 2 2 1 2 2]\n",
      " [2 2 2 2 2 2 2 2 2 2 2 2]]\n"
     ]
    }
   ],
   "source": [
    "my_action = \"left\"\n",
    "obs, rew, term, info = tmp_env.step(action_dict[my_action])\n",
    "print(f\"Reward for action {my_action} is: {rew}\")\n",
    "tmp_env.render()\n",
    "\n",
    "print(\"Observation space looks like this:\")\n",
    "print(obs)"
   ]
  },
  {
   "cell_type": "markdown",
   "metadata": {
    "id": "_BKNX9F4PkGv"
   },
   "source": [
    "# 🧠 **Your Assignments**\n"
   ]
  },
  {
   "cell_type": "markdown",
   "metadata": {
    "id": "BpfZYKmOPkGv"
   },
   "source": [
    "# 1️⃣ Assignment 1: Q-learning with simple toy environment\n"
   ]
  },
  {
   "cell_type": "markdown",
   "metadata": {
    "id": "CvG3QGzTPkGv"
   },
   "source": [
    "## 🐣 Let's learn how to do this in a simple environment\n",
    "\n",
    "- Task 1: Initialize Q table\n",
    "- Task 2: Write necessary helper functions for Q-learning\n",
    "- Task 3: Play with Hyperparameters\n",
    "- Task 4: Train the agent using Q-learning\n",
    "- Task 5: Explain visual representation of environment after training\n",
    "\n",
    "**Note**: Task 2, Task 3 and Task 4: you will use the same code you implemented for these in the Assignment 2.\n"
   ]
  },
  {
   "cell_type": "code",
   "execution_count": 11,
   "metadata": {
    "colab": {
     "base_uri": "https://localhost:8080/"
    },
    "id": "gdWAfr8fPkGv",
    "outputId": "28bfaeb6-2fa7-40bf-e6bc-47b58d2e5d83"
   },
   "outputs": [
    {
     "name": "stdout",
     "output_type": "stream",
     "text": [
      "Environment successfully created\n"
     ]
    }
   ],
   "source": [
    "env_config = {\n",
    "    \"env_image_path\": get_path(input_folder, \"image_simple_1.png\"),\n",
    "    \"dead_allowed\": False,\n",
    "    \"remove_after_location_found\": False,\n",
    "    \"start_random\": False,\n",
    "    \"number_removable_locations\": 0,\n",
    "}\n",
    "\n",
    "if not os.path.exists(env_config[\"env_image_path\"]):\n",
    "    raise FileNotFoundError(\n",
    "        f\"The image path {env_config['env_image_path']} does not exist.\"\n",
    "    )\n",
    "\n",
    "tmp_env = TrondheimEnv(conf=env_config)\n",
    "print(f\"Environment successfully created\")"
   ]
  },
  {
   "cell_type": "markdown",
   "metadata": {
    "id": "0PT6w7C-PkGw"
   },
   "source": [
    "### Task 1: Initialize Q table\n"
   ]
  },
  {
   "cell_type": "code",
   "execution_count": 12,
   "metadata": {
    "colab": {
     "base_uri": "https://localhost:8080/"
    },
    "id": "guc-6hxaPkGw",
    "outputId": "3225c2dc-4aac-402e-c332-cbee57be18c7"
   },
   "outputs": [
    {
     "name": "stdout",
     "output_type": "stream",
     "text": [
      "Observation space dimensions: (12, 12)\n",
      "Number of possible actions: 4\n",
      "(144, 4)\n"
     ]
    }
   ],
   "source": [
    "# Task 1: Initialize Q table\n",
    "# Tip: pay attention to the dimensions of Q table\n",
    "# Tip: how many states the table have, how many actions\n",
    "\n",
    "print(f\"Observation space dimensions: {tmp_env.observation_space.shape}\")\n",
    "print(f\"Number of possible actions: {tmp_env.action_space.n}\")\n",
    "\n",
    "state = np.prod(tmp_env.observation_space.shape)\n",
    "action = tmp_env.action_space.n\n",
    "\n",
    "Q_test = rng.uniform(size=(state, action))\n",
    "print(Q_test.shape)"
   ]
  },
  {
   "cell_type": "code",
   "execution_count": 13,
   "metadata": {
    "colab": {
     "base_uri": "https://localhost:8080/"
    },
    "id": "Tg715k80PkGw",
    "outputId": "b93df652-12a6-4ddc-a01e-512e6a98f5ed"
   },
   "outputs": [
    {
     "name": "stdout",
     "output_type": "stream",
     "text": [
      "Q table has this shape: (144, 4)\n",
      "\n",
      "[[0.94468971 0.64503497 0.06286861 0.44570029]\n",
      " [0.98905596 0.51532691 0.88624838 0.50090986]\n",
      " [0.83646766 0.47337032 0.39902655 0.79859393]\n",
      " [0.4806813  0.54247118 0.66728086 0.10905901]\n",
      " [0.91027233 0.95609861 0.83500789 0.18516516]\n",
      " [0.23710037 0.87654708 0.10221457 0.96003096]\n",
      " [0.33389058 0.19222883 0.32953579 0.24994263]\n",
      " [0.94702056 0.72621615 0.37474618 0.68311395]\n",
      " [0.23640855 0.64076564 0.49710415 0.16636372]\n",
      " [0.74398747 0.05742177 0.27867786 0.58445606]]\n",
      "\n",
      "[[0.03100547 0.64080532 0.23958182 0.88877219]\n",
      " [0.06848966 0.10964291 0.10871512 0.35241162]\n",
      " [0.02792036 0.44669189 0.53927489 0.65202065]\n",
      " [0.42851769 0.85399363 0.49794001 0.11434694]\n",
      " [0.64716354 0.1328565  0.16274524 0.38981517]\n",
      " [0.27934473 0.24313582 0.18958239 0.85274466]\n",
      " [0.67842539 0.46776086 0.46585742 0.25576178]\n",
      " [0.87429133 0.52199602 0.17899346 0.90966185]\n",
      " [0.20252616 0.88649989 0.60324055 0.41955274]]\n"
     ]
    }
   ],
   "source": [
    "print(f\"Q table has this shape: {Q_test.shape}\")\n",
    "print()\n",
    "\n",
    "print(Q_test[:10])\n",
    "print()\n",
    "print(Q_test[135:])"
   ]
  },
  {
   "cell_type": "markdown",
   "metadata": {
    "id": "zXiBz_haPkGw"
   },
   "source": [
    "### Task 2: Write necessary helper functions for Q-learning\n"
   ]
  },
  {
   "cell_type": "code",
   "execution_count": 14,
   "metadata": {
    "colab": {
     "base_uri": "https://localhost:8080/"
    },
    "id": "8ySxhzOxPkGw",
    "outputId": "faea1367-7913-41e9-b17e-d498e3fa917c"
   },
   "outputs": [],
   "source": [
    "# Explore Rate Decay Function, Converges to MIN_EXPLORE_RATE\n",
    "def update_explore_rate(\n",
    "    episode: int | NDArray[Any], MIN_EXPLORE_RATE: float\n",
    ") -> floating:\n",
    "    base_explore_rate = 0.5\n",
    "    decay_rate = 0.01\n",
    "\n",
    "    return MIN_EXPLORE_RATE + (base_explore_rate - MIN_EXPLORE_RATE) * np.exp(\n",
    "        -decay_rate * episode\n",
    "    )\n",
    "\n",
    "\n",
    "# Learning Rate Decay Function, Converges to MIN_LEARNING_RATE\n",
    "def update_learning_rate(\n",
    "    episode: int | NDArray[Any], MIN_LEARNING_RATE: float\n",
    ") -> floating:\n",
    "    base_learning_rate = 0.2\n",
    "    decay_rate = 0.01\n",
    "\n",
    "    return MIN_LEARNING_RATE + (\n",
    "        base_learning_rate - MIN_LEARNING_RATE\n",
    "    ) * np.exp(-decay_rate * episode)\n",
    "\n",
    "\n",
    "# returns an action based on current state, explore rate and Q table\n",
    "def update_action(\n",
    "    env: Env, state: int, explore_rate: float, Q: NDArray[Any]\n",
    ") -> int:\n",
    "    if rng.uniform() < explore_rate:\n",
    "        return rng.integers(0, env.action_space.n)\n",
    "\n",
    "    actions = Q[state]\n",
    "    return np.argmax(actions)"
   ]
  },
  {
   "cell_type": "code",
   "execution_count": 15,
   "metadata": {},
   "outputs": [
    {
     "data": {
      "image/png": "[encoded data removed]",
      "text/plain": [
       "<Figure size 640x480 with 1 Axes>"
      ]
     },
     "metadata": {},
     "output_type": "display_data"
    }
   ],
   "source": [
    "episodes = np.arange(1, 1001)\n",
    "plt.plot(update_explore_rate(episodes, 0.01), label=\"Explore Rate\")\n",
    "plt.plot(update_learning_rate(episodes, 0.01), label=\"Learning Rate\")\n",
    "plt.legend()\n",
    "plt.show()"
   ]
  },
  {
   "cell_type": "markdown",
   "metadata": {
    "id": "nx48WICzPkGw"
   },
   "source": [
    "### Task 3: Play with Hyperparameters\n"
   ]
  },
  {
   "cell_type": "code",
   "execution_count": 16,
   "metadata": {
    "id": "77QFrN9OPkGw"
   },
   "outputs": [],
   "source": [
    "# Task 3: Play with Hyperparameters\n",
    "\n",
    "# YOUR CODE GOES HERE: replace None with your values\n",
    "GAMMA_test = 0.9\n",
    "NUM_EPISODES_test = 1_000\n",
    "MIN_EXPLORE_RATE_test = 0.01\n",
    "MIN_LEARNING_RATE_test = 0.001\n",
    "STEP_SIZE_TEST = 64"
   ]
  },
  {
   "cell_type": "markdown",
   "metadata": {
    "id": "T2szdmzyT27h"
   },
   "source": [
    "## 🐤 Now use Q learning to learn the Q table\n",
    "\n",
    "### Task 4: Train the agent using Q-learning\n"
   ]
  },
  {
   "cell_type": "markdown",
   "metadata": {
    "id": "rJQRmWF3rFnb"
   },
   "source": [
    "The Q-value update equation, also known as the Bellman equation, is as follows:\n",
    "\n",
    "$Q(s, a) = Q(s, a) + α * [reward + γ * max(Q(s', a')) - Q(s, a)]$\n"
   ]
  },
  {
   "cell_type": "code",
   "execution_count": 17,
   "metadata": {
    "id": "uKV3Mce-PkGx"
   },
   "outputs": [
    {
     "name": "stdout",
     "output_type": "stream",
     "text": [
      "Episode: 0, Total_reward: 0, Explore rate: 0.5\n",
      "Episode: 50, Total_reward: 117900, Explore rate: 0.3101869331503639\n",
      "Episode: 100, Total_reward: 431100, Explore rate: 0.1920725786008024\n",
      "Episode: 150, Total_reward: 783900, Explore rate: 0.12043260121432496\n",
      "Episode: 200, Total_reward: 1166100, Explore rate: 0.07698075846830668\n",
      "Episode: 250, Total_reward: 1563000, Explore rate: 0.05062588362183461\n",
      "Episode: 300, Total_reward: 1964400, Explore rate: 0.034640843994560015\n",
      "Episode: 350, Total_reward: 2373300, Explore rate: 0.024945427363896565\n",
      "Episode: 400, Total_reward: 2782500, Explore rate: 0.01906485991871143\n",
      "Episode: 450, Total_reward: 3197700, Explore rate: 0.015498115466698652\n",
      "Episode: 500, Total_reward: 3612300, Explore rate: 0.013334775601192967\n",
      "Episode: 550, Total_reward: 4027800, Explore rate: 0.012022643645385163\n",
      "Episode: 600, Total_reward: 4442400, Explore rate: 0.01122679538459903\n",
      "Episode: 650, Total_reward: 4858200, Explore rate: 0.010744089013953264\n",
      "Episode: 700, Total_reward: 5274300, Explore rate: 0.010451312800517996\n",
      "Episode: 750, Total_reward: 5691000, Explore rate: 0.010273735050634936\n",
      "Episode: 800, Total_reward: 6106200, Explore rate: 0.01016602870084808\n",
      "Episode: 850, Total_reward: 6522600, Explore rate: 0.010100701497456618\n",
      "Episode: 900, Total_reward: 6938100, Explore rate: 0.010061078545686412\n",
      "Episode: 950, Total_reward: 7354800, Explore rate: 0.010037046010609467\n",
      "Final Q values: [[9.34076915e-01 6.45034968e-01 1.01128284e-01 4.45700295e-01]\n",
      " [8.76484847e-01 5.15326911e-01 8.68230459e-01 5.00909861e-01]\n",
      " [8.07232081e-01 5.35847501e-01 3.99026551e-01 7.98593931e-01]\n",
      " [4.80681302e-01 5.42471176e-01 6.81111447e-01 1.09059011e-01]\n",
      " [8.96626943e-01 8.54528712e-01 8.03379442e-01 1.85165162e-01]\n",
      " [3.26659671e-01 8.63885548e-01 1.94008579e-01 7.63421132e-01]\n",
      " [3.42925926e-01 2.81025153e-01 5.70987648e-01 3.23070221e-01]\n",
      " [7.21014385e-01 5.62910836e-01 4.24980042e-01 6.50517372e-01]\n",
      " [3.03169944e-01 6.90756245e-01 4.97104148e-01 2.57249394e-01]\n",
      " [6.73001537e-01 2.36245618e-01 3.09889984e-01 6.29439526e-01]\n",
      " [6.95688865e-01 1.24943047e-01 7.47206554e-01 4.99715327e-01]\n",
      " [5.54604448e-01 4.09234916e-01 5.62666636e-01 7.28954375e-01]\n",
      " [2.90217523e-01 8.24535143e-01 3.70856389e-01 8.70549479e-02]\n",
      " [6.80776065e-01 3.37384443e-01 8.11285287e-01 2.11525447e-01]\n",
      " [8.29989921e-01 3.04973276e-01 5.64963661e-01 1.64617980e-01]\n",
      " [1.90425168e-01 7.76451254e-01 4.50650157e-01 3.13963616e-01]\n",
      " [2.72139000e-01 3.00272172e-01 5.12679773e-01 7.11265512e-01]\n",
      " [8.17990300e-01 7.95402245e-01 1.81302955e-01 1.52371382e-01]\n",
      " [1.44811827e-01 7.85939046e-01 4.92886601e-01 4.85835910e-01]\n",
      " [4.46713318e-01 7.36603628e-01 3.03522630e-01 6.05578651e-01]\n",
      " [2.08477669e-01 7.30363123e-01 7.45202738e-01 7.40559529e-01]\n",
      " [6.91464315e-01 1.08520261e-01 6.91866527e-01 4.88337350e-01]\n",
      " [4.28159618e-01 5.63547099e-01 6.33439404e-01 6.39974805e-01]\n",
      " [6.53423157e-01 6.51899962e-01 3.99547573e-01 6.50109389e-01]\n",
      " [8.92516014e-01 8.13062462e-01 1.61585767e-01 1.26038705e-01]\n",
      " [2.38300558e-01 3.67320148e-01 7.01358951e-02 6.50118552e-01]\n",
      " [9.08977111e-01 8.40719211e-01 3.52398472e-01 4.89843484e-01]\n",
      " [1.41749031e-01 1.13358699e-02 4.10710376e-01 2.98117662e-01]\n",
      " [2.68675595e-01 3.79443488e-01 4.64919295e-01 6.86696966e-01]\n",
      " [7.11064907e-01 4.88426208e-01 4.91562923e-01 3.23139974e-01]\n",
      " [9.30692074e-01 3.54753234e-01 2.06846882e+00 9.05542640e-01]\n",
      " [7.02699188e-01 7.79611917e-01 8.45483562e-01 5.80444190e-01]\n",
      " [7.23010993e-01 4.22100430e-01 5.39557827e-01 6.51702037e-01]\n",
      " [1.47530031e-02 7.09096916e-01 7.04425311e-01 6.17429569e-01]\n",
      " [6.23566665e-01 5.31258144e-01 4.93537055e-01 4.86251977e-01]\n",
      " [1.10872111e-01 7.34505159e-01 8.12543250e-01 6.18557787e-01]\n",
      " [6.09270444e-01 3.04648845e-02 3.90422981e-01 7.84836465e-01]\n",
      " [3.34383111e-01 5.51501449e-01 1.66773159e-01 3.15833982e-01]\n",
      " [3.81279023e-01 9.22941365e-01 8.84941442e-02 1.33426448e-01]\n",
      " [1.80983553e-01 6.19510296e-01 3.57136221e-01 2.52744735e-01]\n",
      " [1.46495574e-01 2.18069772e-01 5.89013551e-01 6.68236766e-01]\n",
      " [6.96465885e-01 4.97625431e-01 5.00353264e-01 9.41444828e-01]\n",
      " [8.95942718e-01 9.08814472e-01 1.23873899e+03 1.00482264e+02]\n",
      " [5.81571423e-01 6.70338455e+02 1.30243874e+02 2.34503809e-01]\n",
      " [7.30623170e-01 1.37941980e-01 5.55478623e+01 7.08735969e-01]\n",
      " [3.41042290e-01 7.08197222e-01 3.98637160e-01 6.19984214e-01]\n",
      " [6.86787571e-01 2.07236731e-01 3.88396812e-01 6.66150008e-01]\n",
      " [8.39596800e-01 3.67851993e-01 8.06041693e-01 5.88090655e-01]\n",
      " [2.33360942e-01 9.73691516e-01 7.58906292e-01 8.35526485e-01]\n",
      " [4.30321403e-01 3.25083310e-01 5.59451516e-01 8.65801200e-01]\n",
      " [8.92356478e-01 8.31946791e-01 3.53754621e-01 5.77865660e-01]\n",
      " [2.82472622e-01 8.56698462e-01 1.50443501e-01 7.67926072e-01]\n",
      " [6.28003683e-01 5.05715161e-01 1.23521980e+01 9.43144867e+01]\n",
      " [4.51227576e-01 7.74603305e+00 1.07776414e+03 1.13151414e+02]\n",
      " [4.56742313e+02 4.72652538e+02 1.57894469e+03 8.45763649e+02]\n",
      " [2.21030846e+02 9.60003554e+02 1.42102494e+03 3.69645601e+02]\n",
      " [6.44713660e-01 9.93153680e+02 1.22140987e+02 4.64096632e+00]\n",
      " [8.08277283e-01 7.56319432e-01 1.55710576e+02 7.46691648e-01]\n",
      " [7.50014865e-01 4.79943915e-01 9.18186445e+00 6.61675952e-01]\n",
      " [7.06486071e-01 7.67910520e-01 3.53877568e-01 6.94596420e-01]\n",
      " [8.02956345e-01 7.24318438e-01 9.54860567e-02 6.71073376e-01]\n",
      " [1.48297494e-01 9.46428004e-01 1.56738900e-01 1.65075606e-01]\n",
      " [1.38510153e-01 3.21138167e-01 4.29074513e-02 4.92785282e-01]\n",
      " [5.29070253e-01 7.50984931e-01 5.98012314e-01 4.60403041e-03]\n",
      " [8.56150990e-02 1.86656185e-01 3.67170826e+02 1.15019875e-01]\n",
      " [2.13039026e+02 9.78634346e+01 6.10561674e+02 1.57894167e+03]\n",
      " [1.42103454e+03 1.42101811e+03 1.42104872e+03 1.42105263e+03]\n",
      " [1.27870301e+03 1.57894737e+03 1.27890549e+03 1.27872438e+03]\n",
      " [3.33896536e+02 1.42102247e+03 2.06864648e+02 2.28682913e+02]\n",
      " [1.11135677e+01 9.20670526e+02 4.12051480e-01 3.08708265e-01]\n",
      " [5.11581683e-01 2.11595294e+02 2.35597963e-01 7.13072885e-01]\n",
      " [5.64711661e-01 3.00459451e+00 6.59800653e-01 6.04963708e-01]\n",
      " [1.46864501e-02 3.12314281e-02 1.48721593e-01 9.86679739e-02]\n",
      " [5.74984455e-02 2.18849186e-01 5.27930501e-02 3.94754560e-01]\n",
      " [9.53144797e-01 1.71294875e-01 5.50543728e-01 6.01057468e-01]\n",
      " [3.34928906e-01 1.85441315e-01 3.18989243e-01 3.48478738e+01]\n",
      " [2.10111742e+01 6.84546895e-01 5.77285795e-01 8.55204055e+02]\n",
      " [3.58228614e+02 6.51091810e+01 1.48076637e+01 1.39644987e+03]\n",
      " [1.57894737e+03 1.02340234e+03 8.97260060e+02 1.21042921e+03]\n",
      " [1.15021562e+03 1.42105263e+03 8.62484488e+02 6.78316032e+02]\n",
      " [1.98628907e+02 1.15353980e+03 4.75316655e-01 6.94095623e+00]\n",
      " [1.05255498e+02 4.92636756e-01 5.31588581e-01 4.99512986e-01]\n",
      " [2.61776492e+01 5.79163527e-01 2.20549632e-01 7.25713522e-01]\n",
      " [6.57743280e-01 3.90964370e-01 4.85077844e-01 6.56836772e-01]\n",
      " [8.95237524e-01 9.44315443e-02 6.26248612e-01 3.40417431e-01]\n",
      " [6.77782565e-01 7.71594478e-02 2.72750791e-01 7.14371213e-01]\n",
      " [4.63049229e-01 1.04638015e-01 6.47649403e-02 9.30637830e-01]\n",
      " [4.19205950e-01 1.26528171e-01 1.88802163e-01 2.97778925e-01]\n",
      " [2.18843472e-01 6.84933080e-02 2.26803156e-01 1.78203245e+01]\n",
      " [7.19493006e-01 4.09894949e-01 2.35064011e-01 3.92503181e+02]\n",
      " [1.35050315e+03 5.32950736e+01 6.81756392e-01 7.10084110e+01]\n",
      " [1.27894627e+03 5.89600074e+02 2.22835747e+02 2.66016956e+02]\n",
      " [2.99474477e+02 1.15103665e+03 2.10855421e+02 9.05541911e+01]\n",
      " [6.49540008e-01 6.37591345e+02 4.29288545e-01 3.63356034e+00]\n",
      " [2.20527803e+00 9.55279993e+01 2.08377812e+01 3.14619990e-01]\n",
      " [3.29527493e-01 4.74128991e-01 5.06415827e-01 4.84914722e-01]\n",
      " [3.41668766e-01 3.32617522e-01 1.42662945e-01 2.13841228e-01]\n",
      " [7.08649100e-02 3.43959329e-01 1.04263560e-02 2.97564899e-01]\n",
      " [9.08193550e-01 8.07289374e-01 7.86238892e-01 8.09142322e-01]\n",
      " [3.91162223e-01 3.50760370e-01 9.27273157e-02 2.87623242e-01]\n",
      " [1.76392719e-01 8.60290149e-02 3.23777289e-01 4.87775074e-01]\n",
      " [3.09067542e-01 2.71844693e-01 3.97221946e-01 8.30360127e-02]\n",
      " [3.17937854e-01 7.28943289e-01 7.84623470e-01 3.25585376e-01]\n",
      " [8.85878120e+02 3.23528678e-01 9.60809734e+00 5.54890950e+01]\n",
      " [1.03581474e+03 1.69216182e+02 6.61378162e+01 1.82560552e+02]\n",
      " [1.22757457e+02 9.31647302e+02 2.88785170e+01 3.04346233e+02]\n",
      " [1.24029562e+01 8.36812786e+02 1.56783115e+02 6.59008505e+01]\n",
      " [5.14209904e-01 2.96023776e+02 4.49280994e-01 6.69366981e-01]\n",
      " [8.71023046e-02 4.52859054e-01 5.73615025e-01 5.52003401e-02]\n",
      " [9.85909837e-02 4.66008631e-02 2.14541613e-01 7.54034736e-01]\n",
      " [6.90372697e-01 8.66620499e-01 6.94051133e-02 1.17794904e-02]\n",
      " [1.31059672e-01 5.29635270e-01 2.12831312e-01 8.70256701e-01]\n",
      " [2.80244487e-01 2.28743830e-01 2.43873319e-01 3.82282692e-01]\n",
      " [2.02512810e-01 8.75896483e-02 7.54487284e-01 5.14313494e-01]\n",
      " [7.92632349e-01 6.20159475e-01 3.11139036e-01 1.33451171e-01]\n",
      " [3.08814520e+02 2.78395531e-01 7.38240511e-01 6.63147962e-01]\n",
      " [5.78505836e+02 6.93140218e+00 3.25168576e-01 5.36905175e-01]\n",
      " [9.47681206e+01 1.88475141e+02 4.20344735e-01 5.09804333e-01]\n",
      " [7.49402284e+02 2.93604064e+01 1.88452554e+02 4.42543556e+00]\n",
      " [2.73972673e+00 6.25285715e+01 4.94646611e-01 5.53536828e-01]\n",
      " [9.33651131e-01 3.19988429e-01 8.38801063e-01 8.75301963e-01]\n",
      " [7.40411772e-01 6.40293429e-02 7.80516343e-01 9.82870415e-01]\n",
      " [5.44160730e-01 6.21943170e-01 9.16286425e-01 1.63691802e-01]\n",
      " [6.41221910e-01 2.36312136e-01 9.43562998e-01 8.77110217e-01]\n",
      " [7.01390572e-03 9.20683906e-01 7.19071870e-01 3.72958437e-01]\n",
      " [4.13343850e-01 4.52492755e-01 5.26067250e-01 6.62069747e-01]\n",
      " [4.89199877e-01 6.27158954e-01 6.19880493e-01 2.97588288e-01]\n",
      " [6.96427100e+01 4.56397254e-01 5.37892552e-01 4.27463881e-01]\n",
      " [2.99979495e-01 1.16372244e+01 5.07451372e-01 5.10851405e-01]\n",
      " [5.58389462e+00 1.92223405e+00 4.92984470e-01 4.85824376e-01]\n",
      " [6.67625745e+02 6.41160561e-01 8.51105323e+00 2.13309535e+00]\n",
      " [4.98907594e-01 3.78854630e+01 5.74286612e-01 4.76374116e-01]\n",
      " [4.41886555e-01 1.65430598e-01 8.51153670e-02 1.37180292e-01]\n",
      " [5.70178242e-01 6.00058450e-01 4.16381458e-01 6.35032054e-01]\n",
      " [3.26475848e-01 9.66539003e-01 6.76684358e-01 3.24305565e-01]\n",
      " [3.10054693e-02 6.40805316e-01 2.39581822e-01 8.42317019e-01]\n",
      " [6.84896594e-02 1.09642910e-01 1.08715117e-01 4.68907082e-01]\n",
      " [3.70923823e-01 4.11195474e-01 5.27818260e-01 5.32314327e-01]\n",
      " [5.48718322e-01 5.35224029e-01 5.31683192e-01 3.60558979e-01]\n",
      " [5.94482925e-01 1.67492524e-01 2.84726213e-01 4.68629761e-01]\n",
      " [4.13474382e-01 4.48943741e-01 4.61408019e-01 4.61487486e-01]\n",
      " [4.97637158e-01 4.73270205e-01 4.72219278e-01 4.23322138e-01]\n",
      " [9.03083702e+01 4.79946713e-01 2.45268784e+00 4.81597234e-01]\n",
      " [4.59902588e-01 4.04731838e+00 4.69067738e-01 4.70656442e-01]]\n"
     ]
    }
   ],
   "source": [
    "# Task 4: Train the agent using Q-learning\n",
    "tmp_env.manual_mode = False\n",
    "\n",
    "total_reward = 0\n",
    "explore_rate = update_explore_rate(0, MIN_EXPLORE_RATE_test)\n",
    "learning_rate = update_learning_rate(0, MIN_LEARNING_RATE_test)\n",
    "\n",
    "# Tip: iterate over number of episodes\n",
    "# Tip: iterate over number of steps in each Episode\n",
    "# Tip: use helper functions defined above to navigate the environment\n",
    "# Tip: use the Q-learning update rule equation - Bellman equation\n",
    "# Tip : print variables of interest, like episode, total_reward, explore_rate\n",
    "\n",
    "for episode in range(NUM_EPISODES_test):\n",
    "    tmp_env.reset()\n",
    "    state = tmp_env.get_1d_state()\n",
    "    episode_reward = 0\n",
    "\n",
    "    for step in range(STEP_SIZE_TEST):\n",
    "        action = update_action(tmp_env, state, explore_rate, Q_test)\n",
    "        _, reward, done, _ = tmp_env.step(action)\n",
    "        next_state = tmp_env.get_1d_state()\n",
    "        episode_reward += reward\n",
    "\n",
    "        Q_test[state, action] += learning_rate * (\n",
    "            reward\n",
    "            + GAMMA_test * max(Q_test[next_state])\n",
    "            - Q_test[state, action]\n",
    "        )\n",
    "\n",
    "        state = next_state\n",
    "\n",
    "        if done:\n",
    "            break\n",
    "\n",
    "    if episode % 50 == 0:\n",
    "        print(\n",
    "            f\"Episode: {episode}, Total_reward: {total_reward}, Explore rate: \"\n",
    "            f\"{explore_rate}\"\n",
    "        )\n",
    "\n",
    "    total_reward += episode_reward\n",
    "    explore_rate = update_explore_rate(episode, MIN_EXPLORE_RATE_test)\n",
    "    learning_rate = update_learning_rate(episode, MIN_LEARNING_RATE_test)\n",
    "\n",
    "print(f\"Final Q values: {Q_test}\")"
   ]
  },
  {
   "cell_type": "code",
   "execution_count": 18,
   "metadata": {
    "colab": {
     "base_uri": "https://localhost:8080/"
    },
    "id": "YVOVYADQPkGx",
    "outputId": "b7226128-e55b-4a21-9d64-3c8e773eaed7"
   },
   "outputs": [
    {
     "name": "stdout",
     "output_type": "stream",
     "text": [
      "Total reward after training: 7770300, total Explore rate after training: 0.010022469541254683\n"
     ]
    }
   ],
   "source": [
    "print(\n",
    "    f\"Total reward after training: {total_reward}, total Explore rate after \"\n",
    "    f\"training: {explore_rate}\"\n",
    ")"
   ]
  },
  {
   "cell_type": "markdown",
   "metadata": {
    "id": "Gxlv9Qj-PkGx"
   },
   "source": [
    "## 🐥 Let's see this in action\n"
   ]
  },
  {
   "cell_type": "code",
   "execution_count": 19,
   "metadata": {
    "colab": {
     "base_uri": "https://localhost:8080/",
     "height": 1000
    },
    "id": "IOfVD-2xPkGx",
    "outputId": "2035a115-7f2e-48ba-fc14-166c9ed70fe7"
   },
   "outputs": [
    {
     "name": "stdout",
     "output_type": "stream",
     "text": [
      "Total_reward: 1200\n"
     ]
    }
   ],
   "source": [
    "tmp_env.manual_mode = False\n",
    "STEP_SIZE_TEST_test = 16\n",
    "\n",
    "image_samples: list[AxesImage] = []\n",
    "\n",
    "observation = tmp_env.reset()\n",
    "state_0 = tmp_env.get_1d_state()\n",
    "total_reward = 0\n",
    "\n",
    "for _ in range(STEP_SIZE_TEST_test):\n",
    "    img = tmp_env.render(display=False)\n",
    "    image_samples.append(img)\n",
    "\n",
    "    action = update_action(tmp_env, state_0, explore_rate, Q_test)\n",
    "    obv, reward, done, info = tmp_env.step(action)\n",
    "    state_0 = tmp_env.get_1d_state()\n",
    "    total_reward += reward\n",
    "\n",
    "print(f\"Total_reward: {total_reward}\")"
   ]
  },
  {
   "cell_type": "code",
   "execution_count": 20,
   "metadata": {
    "colab": {
     "base_uri": "https://localhost:8080/"
    },
    "id": "LPtt6ZDoPkGx",
    "outputId": "a1fb907c-7bfc-439c-bc41-de0e906beaf2"
   },
   "outputs": [
    {
     "name": "stdout",
     "output_type": "stream",
     "text": [
      "(144, 4)\n",
      "Obs space dimensions: (12, 12)\n"
     ]
    }
   ],
   "source": [
    "# the shape of Q table (Q_test)\n",
    "print(Q_test.shape)\n",
    "print(f\"Obs space dimensions: {tmp_env.observation_space.shape}\")"
   ]
  },
  {
   "cell_type": "code",
   "execution_count": 21,
   "metadata": {
    "colab": {
     "base_uri": "https://localhost:8080/"
    },
    "id": "ou-VGkfDPkGx",
    "outputId": "332d5364-84c7-41c9-c3c7-336eb1971626"
   },
   "outputs": [
    {
     "data": {
      "text/plain": [
       "array([[0, 0, 0, 2, 0, 1, 2, 0, 1, 0, 2, 3],\n",
       "       [1, 2, 0, 1, 3, 0, 1, 1, 2, 2, 3, 0],\n",
       "       [0, 3, 0, 2, 3, 0, 2, 2, 0, 1, 0, 2],\n",
       "       [3, 1, 1, 1, 3, 3, 2, 1, 2, 1, 0, 0],\n",
       "       [1, 3, 0, 1, 3, 2, 2, 2, 1, 2, 2, 1],\n",
       "       [0, 1, 3, 1, 2, 3, 3, 1, 1, 1, 1, 1],\n",
       "       [2, 3, 0, 3, 3, 3, 0, 1, 1, 0, 0, 0],\n",
       "       [0, 3, 3, 0, 3, 3, 0, 0, 1, 1, 1, 2],\n",
       "       [0, 1, 0, 0, 3, 2, 2, 0, 0, 1, 1, 1],\n",
       "       [2, 3, 1, 3, 3, 2, 0, 0, 0, 1, 0, 1],\n",
       "       [0, 3, 2, 2, 1, 3, 1, 0, 1, 0, 0, 1],\n",
       "       [0, 3, 1, 3, 3, 3, 0, 0, 3, 0, 0, 1]])"
      ]
     },
     "execution_count": 21,
     "metadata": {},
     "output_type": "execute_result"
    }
   ],
   "source": [
    "# print Q_table in \"observation space\" light\n",
    "Q_test.argmax(axis=1).reshape(tmp_env.observation_space.shape)"
   ]
  },
  {
   "cell_type": "code",
   "execution_count": 22,
   "metadata": {
    "colab": {
     "base_uri": "https://localhost:8080/",
     "height": 308
    },
    "id": "wX9KqLGXPkGy",
    "outputId": "a5309f60-7333-4d5a-d498-126df3c360bd"
   },
   "outputs": [
    {
     "data": {
      "image/png": "[encoded data removed]",
      "text/plain": [
       "<Figure size 640x480 with 2 Axes>"
      ]
     },
     "metadata": {},
     "output_type": "display_data"
    }
   ],
   "source": [
    "# visualize\n",
    "\n",
    "q_pallete = np.array(\n",
    "    [\n",
    "        [0, 0, 0],  # black:0:Up\n",
    "        [255, 0, 0],  # red:1:Left\n",
    "        [255, 255, 255],  # white:2:Down\n",
    "        [0, 0, 255],  # blue:3:Right\n",
    "    ],\n",
    "    dtype=np.uint8,\n",
    ")\n",
    "\n",
    "Q_table_render_arr = make_3d(\n",
    "    map_2d=Q_test.argmax(axis=1).reshape(tmp_env.observation_space.shape),\n",
    "    palette_array=q_pallete,\n",
    ")\n",
    "\n",
    "O_render_arr = make_3d(\n",
    "    map_2d=tmp_env.observation, palette_array=tmp_env.pallete\n",
    ")\n",
    "\n",
    "plt.subplot(1, 2, 1)\n",
    "plt.imshow(Q_table_render_arr)\n",
    "plt.title(\"Visualization\")\n",
    "plt.subplot(1, 2, 2)\n",
    "plt.imshow(O_render_arr)\n",
    "plt.title(\"Environment\")\n",
    "plt.show()"
   ]
  },
  {
   "cell_type": "code",
   "execution_count": 23,
   "metadata": {},
   "outputs": [
    {
     "name": "stderr",
     "output_type": "stream",
     "text": [
      "MovieWriter ffmpeg unavailable; using Pillow instead.\n"
     ]
    },
    {
     "data": {
      "image/png": "[encoded data removed]",
      "text/plain": [
       "<Figure size 640x480 with 1 Axes>"
      ]
     },
     "metadata": {},
     "output_type": "display_data"
    }
   ],
   "source": [
    "height, width, _ = img.shape\n",
    "output_folder = get_path(\"output_stuff\")\n",
    "\n",
    "if not os.path.exists(output_folder):\n",
    "    os.makedirs(output_folder)\n",
    "\n",
    "fig = plt.figure()\n",
    "imgs: list[AxesImage] = []\n",
    "\n",
    "for i in range(STEP_SIZE_TEST_test):\n",
    "    im = plt.imshow(image_samples[i].reshape(height, width, 3), animated=True)\n",
    "    imgs.append([im])\n",
    "\n",
    "animate = ArtistAnimation(fig, imgs, interval=80, blit=True, repeat_delay=1000)\n",
    "filename_gif = get_path(output_folder, \"animation_test_1.gif\")\n",
    "animate.save(filename_gif)\n",
    "plt.show()"
   ]
  },
  {
   "cell_type": "markdown",
   "metadata": {
    "id": "d_BTFY0ePkG2"
   },
   "source": [
    "### Task 5: Explain visual representation (Visualization picture on the left) after training\n"
   ]
  },
  {
   "cell_type": "markdown",
   "metadata": {
    "id": "T_HDKtsCPkG2"
   },
   "source": [
    "You can write your notes related to Task 5 here:\n",
    "\n",
    "The visual representation of the environment after training shows which actions are the best to take in each state. The agent has learned the optimal policy for each state, which is represented by the respective color in the visualization. The model goes to the goal, and then it goes \"right,\" then \"left,\" and repeats this process to get as many points as possible. The agent has learned the best actions to take in each state to maximize its rewards.\n"
   ]
  },
  {
   "cell_type": "code",
   "execution_count": 24,
   "metadata": {
    "colab": {
     "base_uri": "https://localhost:8080/"
    },
    "id": "fbFTMZue12lQ",
    "outputId": "5c6d1803-215f-4168-8d92-7f19cd739748"
   },
   "outputs": [
    {
     "name": "stdout",
     "output_type": "stream",
     "text": [
      "image has more than 3 channels, only first 3 channels are used there are (12, 12, 4) channels\n"
     ]
    }
   ],
   "source": [
    "tmp_env.close()"
   ]
  },
  {
   "cell_type": "markdown",
   "metadata": {
    "id": "ipz9XhhQ-ZVw"
   },
   "source": [
    "# 2️⃣ Assignment 2: Trondheim treasure hunt!\n"
   ]
  },
  {
   "cell_type": "markdown",
   "metadata": {
    "id": "HKV9wMKXPkG2"
   },
   "source": [
    "# 🐔 You are ready for the Trondheim challenge now 💪\n",
    "\n",
    "- Task 1: Initialize Q table\n",
    "- Task 2: Write necessary helper functions for Q-learning\n",
    "- Task 3: Play with Hyperparameters\n",
    "- Task 4: Train the agent using Q-learning\n",
    "\n",
    "## **Important Note**:\n",
    "\n",
    "For Task 2, Task 3 and Task 4, you can (re)use the same code as in the Assignment 1.\n",
    "**These are mentioned here as the elements of the pipeline.**\n",
    "\n",
    "Most of the code from Assigment 1 is reusable, we are just using it with different environment here.\n"
   ]
  },
  {
   "cell_type": "code",
   "execution_count": 25,
   "metadata": {
    "colab": {
     "base_uri": "https://localhost:8080/"
    },
    "id": "Qv_JAXXIPkG2",
    "outputId": "95f0c72b-a46c-43c2-a8be-5c46176f349d"
   },
   "outputs": [
    {
     "name": "stdout",
     "output_type": "stream",
     "text": [
      "Environment successfully created\n"
     ]
    }
   ],
   "source": [
    "env_config = {\n",
    "    \"env_image_path\": get_path(input_folder, \"image_TRD_2.png\"),\n",
    "    \"dead_allowed\": False,\n",
    "    \"remove_after_location_found\": True,\n",
    "    \"start_random\": False,\n",
    "    \"number_removable_locations\": 1,\n",
    "}\n",
    "\n",
    "if not os.path.exists(env_config[\"env_image_path\"]):\n",
    "    raise FileNotFoundError(\n",
    "        f\"The image path {env_config['env_image_path']} does not exist.\"\n",
    "    )\n",
    "\n",
    "tmp_env = TrondheimEnv(conf=env_config)\n",
    "print(f\"Environment successfully created\")"
   ]
  },
  {
   "cell_type": "code",
   "execution_count": 26,
   "metadata": {
    "colab": {
     "base_uri": "https://localhost:8080/",
     "height": 485
    },
    "id": "pvsn6eroPkG2",
    "outputId": "30d61d66-9832-4e29-8bcb-9305219bf1fc"
   },
   "outputs": [
    {
     "data": {
      "image/png": "[encoded data removed]",
      "text/plain": [
       "<Figure size 640x480 with 1 Axes>"
      ]
     },
     "metadata": {},
     "output_type": "display_data"
    },
    {
     "data": {
      "text/plain": [
       "array([[[  0,   0, 255],\n",
       "        [  0,   0, 255],\n",
       "        [  0,   0, 255],\n",
       "        ...,\n",
       "        [  0,   0, 255],\n",
       "        [  0,   0, 255],\n",
       "        [  0,   0, 255]],\n",
       "\n",
       "       [[  0, 255,   0],\n",
       "        [  0, 255,   0],\n",
       "        [  0, 255,   0],\n",
       "        ...,\n",
       "        [  0,   0, 255],\n",
       "        [  0,   0, 255],\n",
       "        [  0, 255,   0]],\n",
       "\n",
       "       [[  0, 255,   0],\n",
       "        [  0, 255,   0],\n",
       "        [  0, 255,   0],\n",
       "        ...,\n",
       "        [  0,   0, 255],\n",
       "        [  0, 255,   0],\n",
       "        [  0, 255,   0]],\n",
       "\n",
       "       ...,\n",
       "\n",
       "       [[  0, 255,   0],\n",
       "        [  0, 255,   0],\n",
       "        [  0, 255,   0],\n",
       "        ...,\n",
       "        [  0, 255,   0],\n",
       "        [  0, 255,   0],\n",
       "        [  0, 255,   0]],\n",
       "\n",
       "       [[  0, 255,   0],\n",
       "        [  0, 255,   0],\n",
       "        [  0, 255,   0],\n",
       "        ...,\n",
       "        [  0, 255,   0],\n",
       "        [  0, 255,   0],\n",
       "        [  0, 255,   0]],\n",
       "\n",
       "       [[  0, 255,   0],\n",
       "        [  0, 255,   0],\n",
       "        [  0, 255,   0],\n",
       "        ...,\n",
       "        [  0, 255,   0],\n",
       "        [  0, 255,   0],\n",
       "        [  0, 255,   0]]], dtype=uint8)"
      ]
     },
     "execution_count": 26,
     "metadata": {},
     "output_type": "execute_result"
    }
   ],
   "source": [
    "tmp_env.reset()\n",
    "tmp_env.render()"
   ]
  },
  {
   "cell_type": "code",
   "execution_count": 27,
   "metadata": {
    "colab": {
     "base_uri": "https://localhost:8080/",
     "height": 537
    },
    "id": "LAC2FRZ5PkG2",
    "outputId": "5de6f485-fa59-4391-eb13-e6030fb60ef2"
   },
   "outputs": [
    {
     "name": "stdout",
     "output_type": "stream",
     "text": [
      "Next step towards:\n",
      "Green Land class area\n",
      "0\n"
     ]
    },
    {
     "data": {
      "image/png": "[encoded data removed]",
      "text/plain": [
       "<Figure size 640x480 with 1 Axes>"
      ]
     },
     "metadata": {},
     "output_type": "display_data"
    },
    {
     "data": {
      "text/plain": [
       "array([[[  0,   0, 255],\n",
       "        [  0,   0, 255],\n",
       "        [  0,   0, 255],\n",
       "        ...,\n",
       "        [  0,   0, 255],\n",
       "        [  0,   0, 255],\n",
       "        [  0,   0, 255]],\n",
       "\n",
       "       [[  0, 255,   0],\n",
       "        [  0, 255,   0],\n",
       "        [  0, 255,   0],\n",
       "        ...,\n",
       "        [  0,   0, 255],\n",
       "        [  0,   0, 255],\n",
       "        [  0, 255,   0]],\n",
       "\n",
       "       [[  0, 255,   0],\n",
       "        [  0, 255,   0],\n",
       "        [  0, 255,   0],\n",
       "        ...,\n",
       "        [  0,   0, 255],\n",
       "        [  0, 255,   0],\n",
       "        [  0, 255,   0]],\n",
       "\n",
       "       ...,\n",
       "\n",
       "       [[  0, 255,   0],\n",
       "        [  0, 255,   0],\n",
       "        [  0, 255,   0],\n",
       "        ...,\n",
       "        [  0, 255,   0],\n",
       "        [  0, 255,   0],\n",
       "        [  0, 255,   0]],\n",
       "\n",
       "       [[  0, 255,   0],\n",
       "        [  0, 255,   0],\n",
       "        [  0, 255,   0],\n",
       "        ...,\n",
       "        [  0, 255,   0],\n",
       "        [  0, 255,   0],\n",
       "        [  0, 255,   0]],\n",
       "\n",
       "       [[  0, 255,   0],\n",
       "        [  0, 255,   0],\n",
       "        [  0, 255,   0],\n",
       "        ...,\n",
       "        [  0, 255,   0],\n",
       "        [  0, 255,   0],\n",
       "        [  0, 255,   0]]], dtype=uint8)"
      ]
     },
     "execution_count": 27,
     "metadata": {},
     "output_type": "execute_result"
    }
   ],
   "source": [
    "my_action = \"right\"\n",
    "\n",
    "obs, rew, term, info = tmp_env.step(action_dict[my_action])\n",
    "print(rew)\n",
    "tmp_env.render()"
   ]
  },
  {
   "cell_type": "markdown",
   "metadata": {
    "id": "y1NDKIr1PkG3"
   },
   "source": [
    "### Task 1: Initialize Q table\n"
   ]
  },
  {
   "cell_type": "code",
   "execution_count": 28,
   "metadata": {
    "colab": {
     "base_uri": "https://localhost:8080/"
    },
    "id": "O94qG1KpPkG3",
    "outputId": "49c63cfb-e0d0-4326-b5ed-ca43fc8abef1"
   },
   "outputs": [
    {
     "name": "stdout",
     "output_type": "stream",
     "text": [
      "Observation space dimensions: (32, 32)\n",
      "Number of possible actions: 4\n",
      "(2048, 4)\n"
     ]
    }
   ],
   "source": [
    "# Task 1: Initialize Q table\n",
    "# Tip: pay attention to the dimensions of Q table\n",
    "# Tip: how many states the table have, how many actions\n",
    "# Extra tip:\n",
    "\"\"\"number of states is different here in comparison with first example:\n",
    "we have 2 subcases for this environment:\n",
    "when Location is there and when it is removed/destroyed\"\"\"\n",
    "\n",
    "print(f\"Observation space dimensions: {tmp_env.observation_space.shape}\")\n",
    "print(f\"Number of possible actions: {tmp_env.action_space.n}\")\n",
    "\n",
    "state = 2 * np.prod(tmp_env.observation_space.shape)\n",
    "action = tmp_env.action_space.n\n",
    "\n",
    "Q_test = rng.uniform(size=(state, action))\n",
    "print(Q_test.shape)"
   ]
  },
  {
   "cell_type": "markdown",
   "metadata": {
    "id": "JB2XCe2ePkG3"
   },
   "source": [
    "### Task 2: Write necessary helper functions for Q-learning\n"
   ]
  },
  {
   "cell_type": "code",
   "execution_count": 29,
   "metadata": {
    "id": "WEanCBRQPkG3"
   },
   "outputs": [],
   "source": [
    "# Task 2: Write necessary helper functions for Q-learning\n",
    "# Tip: just use the same helper functions you already implemented above"
   ]
  },
  {
   "cell_type": "markdown",
   "metadata": {
    "id": "Caf0nsoiPkG3"
   },
   "source": [
    "### Task 3: Play with Hyperparameters\n"
   ]
  },
  {
   "cell_type": "code",
   "execution_count": 30,
   "metadata": {
    "id": "h52WTqg9PkG3"
   },
   "outputs": [],
   "source": [
    "# Task 3: Play with Hyperparameters\n",
    "# Tip - you can also use the same parameters as for the toy example above\n",
    "\n",
    "GAMMA_test = 0.9\n",
    "NUM_EPISODES_test = 1_000\n",
    "MIN_EXPLORE_RATE_test = 0.01\n",
    "MIN_LEARNING_RATE_test = 0.001\n",
    "STEP_SIZE_TEST = 1024\n",
    "# Depending on your parameters for the toy environment, using the same\n",
    "# parameters here could work fine\n",
    "# If they are not working, you may want to set them to different values here"
   ]
  },
  {
   "cell_type": "markdown",
   "metadata": {
    "id": "qFNdPJDsPkG3"
   },
   "source": [
    "## Now use Q-learning to learn the Q table\n",
    "\n",
    "### Task 4: Train the agent using Q-learning\n"
   ]
  },
  {
   "cell_type": "code",
   "execution_count": 31,
   "metadata": {
    "colab": {
     "base_uri": "https://localhost:8080/"
    },
    "id": "3S1v2HSXPkG3",
    "outputId": "d936c21a-f6ff-47d6-f81b-e1803e203e38"
   },
   "outputs": [
    {
     "name": "stdout",
     "output_type": "stream",
     "text": [
      "Episode: 0, Total_reward: 9000, Explore rate: 0.5\n",
      "Episode: 50, Total_reward: 1545400, Explore rate: 0.3072000232591904\n",
      "Episode: 100, Total_reward: 5135200, Explore rate: 0.19026092617400675\n",
      "Episode: 150, Total_reward: 9635200, Explore rate: 0.1193337784727306\n",
      "Episode: 200, Total_reward: 14617600, Explore rate: 0.07631428878594022\n",
      "Episode: 250, Total_reward: 19771800, Explore rate: 0.05022164932571041\n",
      "Episode: 300, Total_reward: 25023400, Explore rate: 0.03439566350025333\n",
      "Episode: 350, Total_reward: 30317600, Explore rate: 0.024796717876936065\n",
      "Episode: 400, Total_reward: 35640800, Explore rate: 0.01897466305547975\n",
      "Episode: 450, Total_reward: 40984200, Explore rate: 0.01544340830373873\n",
      "Episode: 500, Total_reward: 46341000, Explore rate: 0.013301594029551878\n",
      "Episode: 550, Total_reward: 51693200, Explore rate: 0.012002518004847394\n",
      "Episode: 600, Total_reward: 57058600, Explore rate: 0.011214588566566515\n",
      "Episode: 650, Total_reward: 62424400, Explore rate: 0.010736685204559011\n",
      "Episode: 700, Total_reward: 67798400, Explore rate: 0.010446822163121714\n",
      "Episode: 750, Total_reward: 73167200, Explore rate: 0.010271011341372439\n",
      "Episode: 800, Total_reward: 78536800, Explore rate: 0.010164376687672231\n",
      "Episode: 850, Total_reward: 83910600, Explore rate: 0.010099699500815216\n",
      "Episode: 900, Total_reward: 89278800, Explore rate: 0.010060470804002472\n",
      "Episode: 950, Total_reward: 94655000, Explore rate: 0.010036677396644973\n",
      "Final Q values: [[0.00603657 0.77472567 0.94525607 0.37317192]\n",
      " [0.58757947 0.66026389 0.21390615 0.36904026]\n",
      " [0.2501544  0.71077328 0.54805279 0.20526145]\n",
      " ...\n",
      " [0.80149472 0.98974328 0.18777685 0.6404661 ]\n",
      " [0.86120161 0.7794074  0.39723922 0.70896259]\n",
      " [0.70392528 0.50236184 0.13517691 0.18316446]]\n"
     ]
    }
   ],
   "source": [
    "# Task 4: Train the agent using Q-learning\n",
    "# Tip - you can use the same code (or function) as used for simple environment (Assignment 1 Task 4)\n",
    "tmp_env.manual_mode = False\n",
    "total_reward = 0\n",
    "\n",
    "for episode in range(NUM_EPISODES_test):\n",
    "    tmp_env.reset()\n",
    "    state = tmp_env.get_1d_state()\n",
    "    episode_reward = 0\n",
    "    explore_rate = update_explore_rate(episode, MIN_EXPLORE_RATE_test)\n",
    "    learning_rate = update_learning_rate(episode, MIN_LEARNING_RATE_test)\n",
    "\n",
    "    for step in range(STEP_SIZE_TEST):\n",
    "        action = update_action(tmp_env, state, explore_rate, Q_test)\n",
    "        _, reward, done, _ = tmp_env.step(action)\n",
    "        next_state = tmp_env.get_1d_state()\n",
    "        episode_reward += reward\n",
    "\n",
    "        Q_test[state, action] += learning_rate * (\n",
    "            reward\n",
    "            + GAMMA_test * max(Q_test[next_state])\n",
    "            - Q_test[state, action]\n",
    "        )\n",
    "\n",
    "        state = next_state\n",
    "\n",
    "        if done:\n",
    "            break\n",
    "\n",
    "    total_reward += episode_reward\n",
    "\n",
    "    if episode % 50 == 0:\n",
    "        print(\n",
    "            f\"Episode: {episode}, Total_reward: {total_reward}, Explore rate: \"\n",
    "            f\"{explore_rate}\"\n",
    "        )\n",
    "\n",
    "print(f\"Final Q values: {Q_test}\")"
   ]
  },
  {
   "cell_type": "code",
   "execution_count": 32,
   "metadata": {
    "colab": {
     "base_uri": "https://localhost:8080/"
    },
    "id": "2S7gcosOPkG4",
    "outputId": "8db9f232-beb1-452f-c3aa-aa0b6a408312"
   },
   "outputs": [
    {
     "name": "stdout",
     "output_type": "stream",
     "text": [
      "Total reward after training: 99917200, Explore rate after training: 0.010022469541254683\n"
     ]
    }
   ],
   "source": [
    "print(\n",
    "    f\"Total reward after training: {total_reward}, Explore rate after \"\n",
    "    f\"training: {explore_rate}\"\n",
    ")"
   ]
  },
  {
   "cell_type": "markdown",
   "metadata": {
    "id": "hahegZZqPkG4"
   },
   "source": [
    "## Let's see one episode\n"
   ]
  },
  {
   "cell_type": "code",
   "execution_count": 33,
   "metadata": {
    "colab": {
     "base_uri": "https://localhost:8080/",
     "height": 1000
    },
    "id": "U0DTHl47PkG4",
    "outputId": "b2ce72c2-8764-4789-c8ae-1affba0df223",
    "scrolled": false
   },
   "outputs": [
    {
     "name": "stdout",
     "output_type": "stream",
     "text": [
      "Total_reward: 10000\n"
     ]
    }
   ],
   "source": [
    "tmp_env.manual_mode = False\n",
    "STEP_SIZE_TEST_test = 44\n",
    "\n",
    "image_samples: list[NDArray[Any]] = []\n",
    "\n",
    "observation = tmp_env.reset()\n",
    "state_0 = tmp_env.get_1d_state()\n",
    "total_reward = 0\n",
    "\n",
    "for _ in range(STEP_SIZE_TEST_test):\n",
    "    img = tmp_env.render(display=False)\n",
    "    image_samples.append(img)\n",
    "\n",
    "    action = update_action(tmp_env, state_0, explore_rate, Q=Q_test)\n",
    "    obv, reward, done, info = tmp_env.step(action)\n",
    "    state_0 = tmp_env.get_1d_state()\n",
    "    total_reward += reward\n",
    "\n",
    "print(f\"Total_reward: {total_reward}\")"
   ]
  },
  {
   "cell_type": "markdown",
   "metadata": {},
   "source": [
    "### Simple animation of agent movement in one episode\n"
   ]
  },
  {
   "cell_type": "code",
   "execution_count": 34,
   "metadata": {
    "colab": {
     "base_uri": "https://localhost:8080/",
     "height": 430
    },
    "id": "xzKx98oDPkG4",
    "outputId": "8a3c14c3-5902-4644-8e4d-eb875a985f2d"
   },
   "outputs": [
    {
     "name": "stderr",
     "output_type": "stream",
     "text": [
      "MovieWriter ffmpeg unavailable; using Pillow instead.\n"
     ]
    },
    {
     "data": {
      "image/png": "[encoded data removed]",
      "text/plain": [
       "<Figure size 640x480 with 1 Axes>"
      ]
     },
     "metadata": {},
     "output_type": "display_data"
    }
   ],
   "source": [
    "height, width, _ = img.shape\n",
    "\n",
    "fig = plt.figure()\n",
    "imgs: list[AxesImage] = []\n",
    "\n",
    "for i in range(STEP_SIZE_TEST_test):\n",
    "    im = plt.imshow(image_samples[i].reshape(height, width, 3), animated=True)\n",
    "    imgs.append([im])\n",
    "\n",
    "animate = ArtistAnimation(fig, imgs, interval=80, blit=True, repeat_delay=1000)\n",
    "filename_gif = get_path(output_folder, \"animation_test_2.gif\")\n",
    "animate.save(filename_gif)\n",
    "plt.show()"
   ]
  },
  {
   "cell_type": "code",
   "execution_count": 35,
   "metadata": {},
   "outputs": [
    {
     "name": "stdout",
     "output_type": "stream",
     "text": [
      "image has more than 3 channels, only first 3 channels are used there are (32, 32, 4) channels\n"
     ]
    }
   ],
   "source": [
    "tmp_env.close()"
   ]
  }
 ],
 "metadata": {
  "colab": {
   "provenance": []
  },
  "kernelspec": {
   "display_name": "Python 3",
   "language": "python",
   "name": "python3"
  },
  "language_info": {
   "codemirror_mode": {
    "name": "ipython",
    "version": 3
   },
   "file_extension": ".py",
   "mimetype": "text/x-python",
   "name": "python",
   "nbconvert_exporter": "python",
   "pygments_lexer": "ipython3",
   "version": "3.11.6"
  }
 },
 "nbformat": 4,
 "nbformat_minor": 1
}
